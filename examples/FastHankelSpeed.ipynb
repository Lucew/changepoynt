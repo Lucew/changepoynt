{
 "cells": [
  {
   "cell_type": "code",
   "id": "initial_id",
   "metadata": {
    "collapsed": true,
    "ExecuteTime": {
     "end_time": "2025-05-02T09:36:42.069295Z",
     "start_time": "2025-05-02T09:36:42.062616Z"
    }
   },
   "source": [
    "import numpy as np\n",
    "np.random.seed(123)\n",
    "import pandas as pd\n",
    "import seaborn as sns\n",
    "import matplotlib.pyplot as plt\n",
    "import time\n",
    "from changepoynt.algorithms.sst import SST\n",
    "from changepoynt.visualization.score_plotting import plot_data_and_score"
   ],
   "outputs": [],
   "execution_count": 12
  },
  {
   "metadata": {
    "ExecuteTime": {
     "end_time": "2025-05-02T09:21:34.270708Z",
     "start_time": "2025-05-02T09:21:34.265972Z"
    }
   },
   "cell_type": "code",
   "source": [
    "# make synthetic step function\n",
    "x0 = 1 * np.ones(500) + np.random.rand(500) * 1\n",
    "x1 = 3 * np.ones(500) + np.random.rand(500) * 2\n",
    "x2 = 5 * np.ones(500) + np.random.rand(500) * 1.5\n",
    "x = np.hstack([x0, x1, x2])\n",
    "x += np.random.rand(x.size)"
   ],
   "id": "8f181400699c65f8",
   "outputs": [],
   "execution_count": 2
  },
  {
   "metadata": {
    "ExecuteTime": {
     "end_time": "2025-05-02T09:21:34.293570Z",
     "start_time": "2025-05-02T09:21:34.275730Z"
    }
   },
   "cell_type": "code",
   "source": [
    "# measure the timings and also plot them\n",
    "def time_per_window_length(window_length: int, method: str, fast_hankel: bool):\n",
    "\n",
    "    # create the SST object\n",
    "    sst = SST(window_length, method=method, use_fast_hankel=fast_hankel)\n",
    "\n",
    "    # compute the scores and add to the timing\n",
    "    start = time.perf_counter()\n",
    "    sst.transform(x)\n",
    "    measured_time = time.perf_counter()-start\n",
    "    return measured_time\n",
    "\n",
    "def measure_time():\n",
    "    # measure the two methods for different timings\n",
    "    win_lengths_candidates = np.logspace(1.47712125472,2.602,5).astype(int) # 30 to 400\n",
    "\n",
    "    # trigger the jit compilation so comparison is fair\n",
    "    SST(30, method='ika').transform(x)\n",
    "    SST(30, method='ika', use_fast_hankel=True).transform(x)\n",
    "    SST(30, method='rsvd').transform(x)\n",
    "    SST(30, method='rsvd', use_fast_hankel=True).transform(x)\n",
    "    SST(30, method='naive').transform(x)\n",
    "\n",
    "    methods = []\n",
    "    measured_times = []\n",
    "    window_lengths = []\n",
    "\n",
    "    for method in (\"naive\", \"ika\", \"rsvd\"):\n",
    "        for wl in win_lengths_candidates:\n",
    "            for use_fast_hankel in (True, False):\n",
    "                if method == \"naive\" and use_fast_hankel:\n",
    "                    continue\n",
    "                for j in range(5):\n",
    "                    measured_times.append(time_per_window_length(wl, method=method, fast_hankel=use_fast_hankel))\n",
    "                    methods.append(f\"{method}_{'fastHankel' if use_fast_hankel else 'normal'}\")\n",
    "                    window_lengths.append(wl)\n",
    "\n",
    "    return pd.DataFrame({\"time[s]\": measured_times, \"method\":methods, \"window length\":window_lengths})"
   ],
   "id": "8a2230a19ca521c3",
   "outputs": [],
   "execution_count": 3
  },
  {
   "metadata": {
    "ExecuteTime": {
     "end_time": "2025-05-02T09:31:53.441537Z",
     "start_time": "2025-05-02T09:21:34.316866Z"
    }
   },
   "cell_type": "code",
   "source": "df = measure_time()  # takes about 15-20min!",
   "id": "dfb4050a247b2afa",
   "outputs": [],
   "execution_count": 4
  },
  {
   "metadata": {},
   "cell_type": "markdown",
   "source": [
    "In the next cell we will plot the time measurement results. This is just an example, for details refer to our (hopefully soon) published paper.\n",
    "\n",
    "You can see the following from the results:\n",
    "- Naive SST scales really bad\n",
    "- The ika with fast hankel product is pretty fast and scales really well for large window sizes N (N*logN instead of N² or even N³)\n",
    "- There is a constant offset for using the fast hankel product, which is why the normal product is faster for lower window sizes\n",
    "- For the rsvd method the scaling only really takes effect for relatively large window sizes"
   ],
   "id": "dd38e41ccf88f43d"
  },
  {
   "metadata": {
    "ExecuteTime": {
     "end_time": "2025-05-02T09:36:45.667492Z",
     "start_time": "2025-05-02T09:36:44.902987Z"
    }
   },
   "cell_type": "code",
   "source": [
    "# plot the results\n",
    "sns.barplot(x=\"window length\", y=\"time[s]\", hue=\"method\", data=df)\n",
    "plt.yscale(\"log\")"
   ],
   "id": "c78ffdee2b312c62",
   "outputs": [
    {
     "data": {
      "text/plain": [
       "<Figure size 640x480 with 1 Axes>"
      ],
      "image/png": "[encoded data removed]"
     },
     "metadata": {},
     "output_type": "display_data"
    }
   ],
   "execution_count": 13
  },
  {
   "metadata": {},
   "cell_type": "code",
   "outputs": [],
   "execution_count": null,
   "source": "",
   "id": "69ff3513cf3e4a72"
  }
 ],
 "metadata": {
  "kernelspec": {
   "display_name": "Python 3",
   "language": "python",
   "name": "python3"
  },
  "language_info": {
   "codemirror_mode": {
    "name": "ipython",
    "version": 2
   },
   "file_extension": ".py",
   "mimetype": "text/x-python",
   "name": "python",
   "nbconvert_exporter": "python",
   "pygments_lexer": "ipython2",
   "version": "2.7.6"
  }
 },
 "nbformat": 4,
 "nbformat_minor": 5
}
